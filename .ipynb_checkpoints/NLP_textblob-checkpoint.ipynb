{
 "cells": [
  {
   "cell_type": "code",
   "execution_count": 1,
   "id": "f702d958-38e1-47fd-874a-e46461276a2d",
   "metadata": {},
   "outputs": [
    {
     "data": {
      "text/html": [
       "<!--- html styling for Jupyter Dark Theme---!>\n",
       "<style>\n",
       ".CodeMirror-focused .CodeMirror-selected { background: none; }\n",
       ".CodeMirror-focused .CodeMirror-selectedtext { color: black !important; background: #50F148; } \n",
       ".CodeMirror-selected { background:  grey; }\n",
       "</style>\n",
       "<!--- greenish #00FF88 ; pinkish #FF0088 ; turquoise---!>\n"
      ],
      "text/plain": [
       "<IPython.core.display.HTML object>"
      ]
     },
     "metadata": {},
     "output_type": "display_data"
    }
   ],
   "source": [
    " %%html\n",
    "<!--- html styling for Jupyter Dark Theme---!>\n",
    "<style>\n",
    ".CodeMirror-focused .CodeMirror-selected { background: none; }\n",
    ".CodeMirror-focused .CodeMirror-selectedtext { color: black !important; background: #50F148; } \n",
    ".CodeMirror-selected { background:  grey; }\n",
    "</style>\n",
    "<!--- greenish #00FF88 ; pinkish #FF0088 ; turquoise---!>"
   ]
  },
  {
   "cell_type": "code",
   "execution_count": 2,
   "id": "54d2de20-5c39-4740-ab05-5d97fd3e8ac5",
   "metadata": {},
   "outputs": [
    {
     "data": {
      "text/plain": [
       "'07  February 2022 T 15:20:53'"
      ]
     },
     "execution_count": 2,
     "metadata": {},
     "output_type": "execute_result"
    }
   ],
   "source": [
    "# Current Time\n",
    "from datetime import datetime\n",
    "timenow = datetime.now()\n",
    "\n",
    "timenow.strftime(\"%d  %B %Y T %H:%M:%S\")"
   ]
  },
  {
   "cell_type": "code",
   "execution_count": 3,
   "id": "065e9985-9abe-4c3b-85a9-b4664833dd3e",
   "metadata": {},
   "outputs": [],
   "source": [
    "### sentiment Analysis\n",
    "from textblob import TextBlob"
   ]
  },
  {
   "cell_type": "code",
   "execution_count": 4,
   "id": "d7cd1a31-0722-4dc7-accc-2288df709b8f",
   "metadata": {},
   "outputs": [],
   "source": [
    "text = 'I had an awesome day'"
   ]
  },
  {
   "cell_type": "code",
   "execution_count": 5,
   "id": "e1520b38-756d-4d82-bb8b-d5c21cff1a4a",
   "metadata": {},
   "outputs": [],
   "source": [
    "blob_text = TextBlob(text)"
   ]
  },
  {
   "cell_type": "code",
   "execution_count": 6,
   "id": "7e953a19-639b-499d-bb1e-328d42f04981",
   "metadata": {},
   "outputs": [
    {
     "data": {
      "text/plain": [
       "[('I', 'PRP'), ('had', 'VBD'), ('an', 'DT'), ('awesome', 'JJ'), ('day', 'NN')]"
      ]
     },
     "execution_count": 6,
     "metadata": {},
     "output_type": "execute_result"
    }
   ],
   "source": [
    "blob_text.tags"
   ]
  },
  {
   "cell_type": "code",
   "execution_count": 7,
   "id": "b66ed6bf-26af-410a-b9bb-732e114414e8",
   "metadata": {},
   "outputs": [],
   "source": [
    "sentiment = blob_text.sentiment "
   ]
  },
  {
   "cell_type": "code",
   "execution_count": 8,
   "id": "b225ac04-17b7-4e07-b17b-01f3e3524435",
   "metadata": {},
   "outputs": [
    {
     "data": {
      "text/plain": [
       "Sentiment(polarity=1.0, subjectivity=1.0)"
      ]
     },
     "execution_count": 8,
     "metadata": {},
     "output_type": "execute_result"
    }
   ],
   "source": [
    "sentiment\n",
    "    # Sentiment(polarity=1.0, subjectivity=1.0)"
   ]
  },
  {
   "cell_type": "code",
   "execution_count": 32,
   "id": "51760123-8eb4-4a08-8c23-f004fe849b59",
   "metadata": {},
   "outputs": [
    {
     "data": {
      "text/plain": [
       "0.11212121212121212"
      ]
     },
     "execution_count": 32,
     "metadata": {},
     "output_type": "execute_result"
    }
   ],
   "source": [
    "text_n = \"for starters , it was created by alan moore ( and eddie campbell ) , who brought the medium to a whole new level in the mid '80s with a 12-part series called the watchmen .\"\n",
    "tb_n = TextBlob(text_n)\n",
    "senti_n = tb_n.sentiment\n",
    "senti_n.polarity"
   ]
  },
  {
   "cell_type": "code",
   "execution_count": 9,
   "id": "095afc76-adb6-4107-bd4a-6c6866b805cf",
   "metadata": {},
   "outputs": [],
   "source": [
    "text_1 = 'I am not having a good day'"
   ]
  },
  {
   "cell_type": "code",
   "execution_count": 10,
   "id": "6c0586ea-1ac5-4408-abd9-15865a4b8916",
   "metadata": {},
   "outputs": [],
   "source": [
    "text_2 = 'I am having a bad day'"
   ]
  },
  {
   "cell_type": "code",
   "execution_count": 11,
   "id": "c878a1c1-8935-4006-8ff8-f81f3c1f355c",
   "metadata": {},
   "outputs": [],
   "source": [
    "text_3 = 'I am having a very bad day'"
   ]
  },
  {
   "cell_type": "code",
   "execution_count": 12,
   "id": "5024c587-8699-4df0-aa28-8e5c6a817b4c",
   "metadata": {},
   "outputs": [],
   "source": [
    "text_4 = 'It feels like a Monday.'"
   ]
  },
  {
   "cell_type": "code",
   "execution_count": 13,
   "id": "c69c9426-5ad7-42dd-a430-7b55d01ee6e1",
   "metadata": {},
   "outputs": [],
   "source": [
    "text_5 = 'It feels like a Monday.'\n",
    "text_6 = 'It is Monday.'\n",
    "text_7 = 'It feels like a Tuesday.'"
   ]
  },
  {
   "cell_type": "code",
   "execution_count": 14,
   "id": "cd098745-78ff-4f2e-b6d7-7958a308cfc1",
   "metadata": {},
   "outputs": [],
   "source": [
    "tb_1= TextBlob(text_1)\n",
    "tb_2= TextBlob(text_2)\n",
    "tb_3= TextBlob(text_3)"
   ]
  },
  {
   "cell_type": "code",
   "execution_count": 15,
   "id": "02793b09-777c-4a46-afa8-88899c41c344",
   "metadata": {},
   "outputs": [],
   "source": [
    "tb_4 = TextBlob(text_4)\n",
    "tb_5 = TextBlob(text_5)\n",
    "tb_6 = TextBlob(text_6)\n",
    "tb_7 = TextBlob(text_7)"
   ]
  },
  {
   "cell_type": "code",
   "execution_count": 16,
   "id": "588472e5-7da9-423b-a842-87a8fac3ba61",
   "metadata": {},
   "outputs": [],
   "source": [
    "# tb_1.tags\n"
   ]
  },
  {
   "cell_type": "code",
   "execution_count": 17,
   "id": "4c392f8d-323a-4d6f-b61a-55d5205f2746",
   "metadata": {},
   "outputs": [],
   "source": [
    "senti_1 = tb_1.sentiment\n",
    "senti_2 = tb_2.sentiment\n",
    "senti_3 = tb_3.sentiment"
   ]
  },
  {
   "cell_type": "code",
   "execution_count": 18,
   "id": "2066b294-74c5-489e-ac1c-c13ae5cb8fd8",
   "metadata": {},
   "outputs": [],
   "source": [
    "senti_4 = tb_4.sentiment\n",
    "senti_5 = tb_5.sentiment\n",
    "senti_6 = tb_6.sentiment\n",
    "senti_7 = tb_7.sentiment"
   ]
  },
  {
   "cell_type": "code",
   "execution_count": 19,
   "id": "990a0e42-d79b-4e33-9bf1-155c08dde7b1",
   "metadata": {},
   "outputs": [
    {
     "data": {
      "text/plain": [
       "0.7"
      ]
     },
     "execution_count": 19,
     "metadata": {},
     "output_type": "execute_result"
    }
   ],
   "source": [
    "senti_1.polarity"
   ]
  },
  {
   "cell_type": "code",
   "execution_count": 20,
   "id": "71f0ac04-6cac-45a3-8e7e-fe0df39f94a0",
   "metadata": {},
   "outputs": [
    {
     "data": {
      "text/plain": [
       "-0.6999999999999998"
      ]
     },
     "execution_count": 20,
     "metadata": {},
     "output_type": "execute_result"
    }
   ],
   "source": [
    "senti_2.polarity"
   ]
  },
  {
   "cell_type": "code",
   "execution_count": 21,
   "id": "ab52ea23-0d8a-470e-98c9-d598afe4b87d",
   "metadata": {},
   "outputs": [
    {
     "data": {
      "text/plain": [
       "-0.9099999999999998"
      ]
     },
     "execution_count": 21,
     "metadata": {},
     "output_type": "execute_result"
    }
   ],
   "source": [
    "senti_3.polarity"
   ]
  },
  {
   "cell_type": "code",
   "execution_count": 22,
   "id": "73cb75f9-49e4-47d0-9538-6ea225782229",
   "metadata": {},
   "outputs": [
    {
     "data": {
      "text/plain": [
       "0.0"
      ]
     },
     "execution_count": 22,
     "metadata": {},
     "output_type": "execute_result"
    }
   ],
   "source": [
    "senti_4.polarity"
   ]
  },
  {
   "cell_type": "code",
   "execution_count": 23,
   "id": "c3144d40-5d78-4771-b5e7-bc86dddd7201",
   "metadata": {},
   "outputs": [
    {
     "data": {
      "text/plain": [
       "0.0"
      ]
     },
     "execution_count": 23,
     "metadata": {},
     "output_type": "execute_result"
    }
   ],
   "source": [
    "senti_5.polarity"
   ]
  },
  {
   "cell_type": "code",
   "execution_count": 24,
   "id": "f5ca7be6-ff56-4c99-a400-6fbdfbca0e96",
   "metadata": {},
   "outputs": [
    {
     "data": {
      "text/plain": [
       "0.0"
      ]
     },
     "execution_count": 24,
     "metadata": {},
     "output_type": "execute_result"
    }
   ],
   "source": [
    "senti_6.polarity"
   ]
  },
  {
   "cell_type": "code",
   "execution_count": 25,
   "id": "bf225535-1f98-4251-8757-cd7cb11f3484",
   "metadata": {},
   "outputs": [
    {
     "data": {
      "text/plain": [
       "0.0"
      ]
     },
     "execution_count": 25,
     "metadata": {},
     "output_type": "execute_result"
    }
   ],
   "source": [
    "senti_7.polarity"
   ]
  }
 ],
 "metadata": {
  "kernelspec": {
   "display_name": "Python 3 (ipykernel)",
   "language": "python",
   "name": "python3"
  },
  "language_info": {
   "codemirror_mode": {
    "name": "ipython",
    "version": 3
   },
   "file_extension": ".py",
   "mimetype": "text/x-python",
   "name": "python",
   "nbconvert_exporter": "python",
   "pygments_lexer": "ipython3",
   "version": "3.9.7"
  }
 },
 "nbformat": 4,
 "nbformat_minor": 5
}
